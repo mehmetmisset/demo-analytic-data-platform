{
 "cells": [
  {
   "cell_type": "markdown",
   "metadata": {},
   "source": [
    "# Import libraries"
   ]
  },
  {
   "cell_type": "code",
   "execution_count": 170,
   "metadata": {},
   "outputs": [],
   "source": [
    "import sys\n",
    "sys.path.append('modules')\n",
    "\n",
    "# Import Custom Modules\n",
    "import modules.source as src\n",
    "import modules.target as tgt"
   ]
  },
  {
   "cell_type": "markdown",
   "metadata": {},
   "source": [
    "### Setting local varibale"
   ]
  },
  {
   "cell_type": "code",
   "execution_count": 171,
   "metadata": {},
   "outputs": [],
   "source": [
    "is_debugging = 1\n",
    "\n",
    "wtb_1_any_ds_url   = \"https://finance.yahoo.com/quote/\"\n",
    "wtb_2_any_ds_path  = \"NVDA/history/?period1=1709544776&period2=1741080767&filter=history\" \n",
    "wtb_3_any_ni_index = \"0\"\n",
    "\n",
    "nm_target_schema = \"tsl_psa_yahoo_exchange_rate\"\n",
    "nm_target_table  = \"tsl_eur_x_usd\"\n",
    " "
   ]
  },
  {
   "cell_type": "markdown",
   "metadata": {},
   "source": [
    "## Extract web table from Yahoo Finance"
   ]
  },
  {
   "cell_type": "code",
   "execution_count": 179,
   "metadata": {},
   "outputs": [],
   "source": [
    "# Import Custom Modules\n",
    "from modules import session     as ss\n",
    "from modules import secret      as sc \n",
    "\n",
    "# Import for web_table_anonymous_web\n",
    "import pandas as pd\n",
    "import time\n",
    "from selenium.webdriver.common.by import By as by\n",
    "from selenium                     import webdriver\n",
    "from bs4                          import BeautifulSoup\n",
    "from io                           import StringIO"
   ]
  },
  {
   "cell_type": "code",
   "execution_count": 173,
   "metadata": {},
   "outputs": [],
   "source": [
    "# Initialize the WebDriver (e.g., Chrome)\n",
    "driver = webdriver.Chrome()\n",
    "\n",
    "# Open the webpage\n",
    "driver.get(wtb_1_any_ds_url + wtb_2_any_ds_path)\n",
    "\n",
    "# Wait for the page to load (you might need to adjust the sleep time)\n",
    "time.sleep(2)\n",
    "\n",
    "try: # Find and click the \"Accept Cookies\" button (adjust the selector as needed)\n",
    "    accept_button = driver.find_element(by.XPATH, '//button[text()=\"Alles accepteren\"]')\n",
    "    accept_button.click()\n",
    "\n",
    "    # Wait for the page to load after accepting cookies\n",
    "    time.sleep(2)\n",
    "\n",
    "except Exception as e:\n",
    "    # Code to handle any other exceptions\n",
    "    print(f\"An unexpected error occurred: {e}\")        \n",
    "\n",
    "# Get the page source after accepting cookies\n",
    "page_source = driver.page_source\n",
    "\n",
    "# Close the browser\n",
    "driver.quit()"
   ]
  },
  {
   "cell_type": "code",
   "execution_count": 174,
   "metadata": {},
   "outputs": [
    {
     "name": "stderr",
     "output_type": "stream",
     "text": [
      "C:\\Users\\mehme\\AppData\\Local\\Temp\\ipykernel_11128\\2596355597.py:11: FutureWarning: Passing literal html to 'read_html' is deprecated and will be removed in a future version. To read from a literal string, wrap it in a 'StringIO' object.\n",
      "  pandas_df = pd.read_html(table.getvalue())[int(wtb_3_any_ni_index)]\n"
     ]
    }
   ],
   "source": [
    "# Parse the page source with BeautifulSoup\n",
    "soup = BeautifulSoup(page_source, 'html.parser')\n",
    "\n",
    "# Create a StringIO object\n",
    "table = StringIO()\n",
    "\n",
    "# Find the table in the webpage (you might need to adjust the selector based on the webpage structure)\n",
    "table.write(str(soup.find('table')))\n",
    "\n",
    "# Read the table into a pandas DataFrame\n",
    "pandas_df = pd.read_html(table.getvalue())[int(wtb_3_any_ni_index)]\n"
   ]
  },
  {
   "cell_type": "code",
   "execution_count": 175,
   "metadata": {},
   "outputs": [],
   "source": [
    "# Initialize Spark session\n",
    "spark = ss.getSparkSession(\"WebTableToSparkDataFrame\")"
   ]
  },
  {
   "cell_type": "code",
   "execution_count": 176,
   "metadata": {},
   "outputs": [],
   "source": [
    "# Convert the pandas DataFrame to a Spark DataFrame\n",
    "df_source_dataset = spark.createDataFrame(pandas_df)\n"
   ]
  },
  {
   "cell_type": "markdown",
   "metadata": {},
   "source": [
    "### Spark DataFrame van Web table avialable"
   ]
  },
  {
   "cell_type": "code",
   "execution_count": 180,
   "metadata": {},
   "outputs": [],
   "source": [
    "# Import Custom Modules\n",
    "from modules import credentials as sa\n"
   ]
  },
  {
   "cell_type": "code",
   "execution_count": 182,
   "metadata": {},
   "outputs": [
    {
     "ename": "AttributeError",
     "evalue": "module 'modules.session' has no attribute 'jdbc_url'",
     "output_type": "error",
     "traceback": [
      "\u001b[31m---------------------------------------------------------------------------\u001b[39m",
      "\u001b[31mAttributeError\u001b[39m                            Traceback (most recent call last)",
      "\u001b[36mCell\u001b[39m\u001b[36m \u001b[39m\u001b[32mIn[182]\u001b[39m\u001b[32m, line 1\u001b[39m\n\u001b[32m----> \u001b[39m\u001b[32m1\u001b[39m \u001b[38;5;28mprint\u001b[39m(\u001b[43mss\u001b[49m\u001b[43m.\u001b[49m\u001b[43mjdbc_url\u001b[49m(sa.target_db))\n",
      "\u001b[31mAttributeError\u001b[39m: module 'modules.session' has no attribute 'jdbc_url'"
     ]
    }
   ],
   "source": [
    "print(ss.jdbc_url(sa.target_db))"
   ]
  },
  {
   "cell_type": "code",
   "execution_count": 181,
   "metadata": {},
   "outputs": [
    {
     "ename": "AttributeError",
     "evalue": "module 'modules.session' has no attribute 'truncate_table'",
     "output_type": "error",
     "traceback": [
      "\u001b[31m---------------------------------------------------------------------------\u001b[39m",
      "\u001b[31mAttributeError\u001b[39m                            Traceback (most recent call last)",
      "\u001b[36mCell\u001b[39m\u001b[36m \u001b[39m\u001b[32mIn[181]\u001b[39m\u001b[32m, line 2\u001b[39m\n\u001b[32m      1\u001b[39m \u001b[38;5;66;03m# Truncate Target Table\u001b[39;00m\n\u001b[32m----> \u001b[39m\u001b[32m2\u001b[39m \u001b[43mss\u001b[49m\u001b[43m.\u001b[49m\u001b[43mtruncate_table\u001b[49m(sa.target_db, nm_target_schema, nm_target_table)\n",
      "\u001b[31mAttributeError\u001b[39m: module 'modules.session' has no attribute 'truncate_table'"
     ]
    }
   ],
   "source": [
    "# Truncate Target Table\n",
    "ss.truncate_table(sa.target_db, nm_target_schema, nm_target_table)"
   ]
  },
  {
   "cell_type": "code",
   "execution_count": null,
   "metadata": {},
   "outputs": [],
   "source": [
    "# Database credentials\n",
    "ds_jdbc_url = ss.jdbc_url(sa.secret_db)\n",
    "nm_username = sa.target_db['username']\n",
    "cd_password = sa.target_db['password']\n",
    "\n",
    "# Load Source DataFrame to SQL Schema / Table\n",
    "result = df_source_dataset.write.format(\"jdbc\").option(\"url\", ds_jdbc_url).option(\"driver\", \"com.microsoft.sqlserver.jdbc.SQLServerDriver\")\\\n",
    "    .option(\"user\",     nm_username)\\\n",
    "    .option(\"password\", cd_password)\\\n",
    "    .option(\"schema\",   nm_target_schema) \\\n",
    "    .option(\"dbtable\",  nm_target_table) \\\n",
    "    .mode(\"append\").save()\n",
    "\n",
    "# Show Input Parameter(s)\n",
    "if (is_debugging == \"1\"):\n",
    "    print(f\"nm_target_schema : '{nm_target_schema}'\")\n",
    "    print(f\"nm_target_table  : '{nm_target_table}'\")\n",
    "    print(f\"ni_ingested      : # {str(result)}\")"
   ]
  },
  {
   "cell_type": "code",
   "execution_count": null,
   "metadata": {},
   "outputs": [],
   "source": [
    "# If is Debugging then show imput parameters\n",
    "if (is_debugging == 1):\n",
    "    print(\"wtb_1_any_ds_url   : '\" + wtb_1_any_ds_url + \"'\")\n",
    "    print(\"wtb_2_any_ds_path  : '\" + wtb_2_any_ds_path + \"'\")\n",
    "    print(\"wtb_3_any_ni_index : '\" + wtb_3_any_ni_index + \"'\")\n",
    "    print(\"DataFrame:\")\n",
    "    df.show(10)"
   ]
  }
 ],
 "metadata": {
  "kernelspec": {
   "display_name": "Python 3",
   "language": "python",
   "name": "python3"
  },
  "language_info": {
   "codemirror_mode": {
    "name": "ipython",
    "version": 3
   },
   "file_extension": ".py",
   "mimetype": "text/x-python",
   "name": "python",
   "nbconvert_exporter": "python",
   "pygments_lexer": "ipython3",
   "version": "3.13.2"
  }
 },
 "nbformat": 4,
 "nbformat_minor": 2
}
